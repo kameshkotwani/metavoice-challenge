{
 "cells": [
  {
   "cell_type": "code",
   "execution_count": null,
   "id": "f9535990",
   "metadata": {},
   "outputs": [],
   "source": []
  },
  {
   "cell_type": "code",
   "execution_count": 7,
   "id": "ab087efa",
   "metadata": {},
   "outputs": [
    {
     "name": "stdout",
     "output_type": "stream",
     "text": [
      "{'text': ' Please cool Stella', 'segments': [{'id': 0, 'seek': 0, 'start': 0.0, 'end': 2.0, 'text': ' Please cool Stella', 'tokens': [50364, 2555, 1627, 45073, 50464], 'temperature': 0.0, 'avg_logprob': -0.6301061312357584, 'compression_ratio': 0.6923076923076923, 'no_speech_prob': 0.03337283432483673}], 'language': 'en'}\n"
     ]
    }
   ],
   "source": [
    "import whisper\n",
    "\n",
    "model = whisper.load_model(\"tiny\")\n",
    "result = model.transcribe(\"../data/raw/wav48_silence_trimmed/p225/p225_001_mic1.flac\")\n",
    "print(result)"
   ]
  },
  {
   "cell_type": "code",
   "execution_count": 2,
   "id": "db1add29",
   "metadata": {},
   "outputs": [],
   "source": [
    "import soundfile as sf\n",
    "audio_np,i = sf.read(\"../data/test/p225/p225_266_mic1.flac\", dtype=\"float32\")"
   ]
  },
  {
   "cell_type": "code",
   "execution_count": 5,
   "id": "1755ddca",
   "metadata": {},
   "outputs": [
    {
     "data": {
      "text/plain": [
       "(169744,)"
      ]
     },
     "execution_count": 5,
     "metadata": {},
     "output_type": "execute_result"
    }
   ],
   "source": [
    "audio_np.shape"
   ]
  },
  {
   "cell_type": "code",
   "execution_count": 5,
   "id": "6f07eeb4",
   "metadata": {},
   "outputs": [],
   "source": [
    "from pathlib import Path\n",
    "AUDIO_ROOT = Path(\"../data/test/\")\n",
    "files = [\n",
    "            str(p.relative_to(AUDIO_ROOT))\n",
    "            for folder in AUDIO_ROOT.iterdir() if folder.is_dir()\n",
    "            for p in folder.glob(\"*.flac\")\n",
    "]\n"
   ]
  },
  {
   "cell_type": "code",
   "execution_count": 6,
   "id": "cf7a0df8",
   "metadata": {},
   "outputs": [
    {
     "data": {
      "text/plain": [
       "1952"
      ]
     },
     "execution_count": 6,
     "metadata": {},
     "output_type": "execute_result"
    }
   ],
   "source": [
    "len(files)"
   ]
  }
 ],
 "metadata": {
  "kernelspec": {
   "display_name": ".venv",
   "language": "python",
   "name": "python3"
  },
  "language_info": {
   "codemirror_mode": {
    "name": "ipython",
    "version": 3
   },
   "file_extension": ".py",
   "mimetype": "text/x-python",
   "name": "python",
   "nbconvert_exporter": "python",
   "pygments_lexer": "ipython3",
   "version": "3.11.11"
  }
 },
 "nbformat": 4,
 "nbformat_minor": 5
}
